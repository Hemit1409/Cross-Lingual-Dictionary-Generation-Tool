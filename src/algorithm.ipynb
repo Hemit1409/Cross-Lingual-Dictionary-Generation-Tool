{
 "cells": [
  {
   "cell_type": "markdown",
   "metadata": {
    "collapsed": false
   },
   "source": [
    "# Aim\n",
    "Find and Sort the hamming_distance of all the words in the file"
   ]
  },
  {
   "cell_type": "markdown",
   "metadata": {
    "collapsed": false
   },
   "source": [
    "## Create own length finding function"
   ]
  },
  {
   "cell_type": "code",
   "execution_count": 7,
   "metadata": {
    "collapsed": false,
    "pycharm": {
     "name": "#%%\n"
    }
   },
   "outputs": [
    {
     "name": "stdout",
     "output_type": "stream",
     "text": [
      "my_len: 3  len: 5\n",
      "my_len: 4  len: 6\n"
     ]
    }
   ],
   "source": [
    "# આ ફંકશન માત્રાઓને ingnore કરશે.\n",
    "# ઉ.દા. len(શાબાસ) == 3 not 5\n",
    "swar_guj = ['ા', 'િ', 'ી', 'ુ', 'ૂ', 'ે', 'ૈ', 'ો', 'ૌ', 'ૅ', 'ૉ', 'ં', 'ૃ', '્', 'ઃ', 'ઁ', '઼', 'ઽ', 'ૄ'];\n",
    "swar_hin = ['ा', 'ि', 'ी', 'ु', 'ू', 'े', 'ै', 'ो', 'ौ', 'ॅ', 'ॉ', 'ं', 'ृ', '्', 'ः', 'ँ', '़', 'ऽ', 'ॄ'];\n",
    "\n",
    "gu_vow = ['અ', 'આ', 'ઇ', 'ઈ', 'ઉ', 'ઊ', 'ઋ', 'ૠ', 'ઍ', 'એ', 'ઐ', 'ઑ', 'ઓ', 'ઔ', 'ૐ'];\n",
    "hi_vow = ['अ', 'आ', 'इ', 'ई', 'उ', 'ऊ', 'ऋ', 'ॠ', 'ऍ', 'ए', 'ऐ', 'ऑ', 'ओ', 'औ', 'ॐ'];\n",
    "\n",
    "gu_cons = ['ક', 'ખ', 'ગ', 'ઘ', 'ઙ', 'ચ', 'છ', 'જ', 'ઝ', 'ઞ', 'ટ', 'ઠ', 'ડ', 'ઢ', 'ણ', 'ત', 'થ', 'દ', 'ધ', 'ન', 'પ', 'ફ',\n",
    "           'બ', 'ભ', 'મ', 'ય', 'ર', 'લ', 'ળ', 'વ', 'શ', 'ષ', 'સ', 'હ'];\n",
    "hi_cons = ['क', 'ख', 'ग', 'घ', 'ङ', 'च', 'छ', 'ज', 'झ', 'ञ', 'ट', 'ठ', 'ड', 'ढ', 'ण', 'त', 'थ', 'द', 'ध', 'न', 'प', 'फ',\n",
    "           'ब', 'भ', 'म', 'य', 'र', 'ल', 'ळ', 'व', 'श', 'ष', 'स', 'ह'];\n",
    "\n",
    "\n",
    "# User Defined length function\n",
    "def my_len(s):\n",
    "    count = 0\n",
    "    for i in s:\n",
    "        if i not in swar_guj and i not in swar_hin:\n",
    "            count += 1\n",
    "    return count\n",
    "\n",
    "\n",
    "# test\n",
    "print(\"my_len: \" + str(my_len('શાબાસ')) + \"  len: \" + str(len('શાબાસ')))\n",
    "print(\"my_len: \" + str(my_len('सोमवार')) + \"  len: \" + str(len('सोमवार')))"
   ]
  },
  {
   "cell_type": "markdown",
   "metadata": {
    "collapsed": false
   },
   "source": [
    "### Translitaration of Hindi to Gujarati\n",
    "we will translitarate the fonts of hindi to gujarati first and the compute the hamming distance of the two strings"
   ]
  },
  {
   "cell_type": "code",
   "execution_count": 8,
   "metadata": {
    "collapsed": false,
    "pycharm": {
     "name": "#%%\n"
    }
   },
   "outputs": [
    {
     "name": "stdout",
     "output_type": "stream",
     "text": [
      "સोમવाર\n"
     ]
    }
   ],
   "source": [
    "def translitarrate_hin_guj(s):\n",
    "    output = []\n",
    "    for i in s:\n",
    "        if i in hi_vow:\n",
    "            output.append(gu_vow[hi_vow.index(i)])\n",
    "        elif i in hi_cons:\n",
    "            output.append(gu_cons[hi_cons.index(i)])\n",
    "        else:\n",
    "            output.append(i)\n",
    "    return ''.join(output)\n",
    "\n",
    "\n",
    "# testing\n",
    "print(translitarrate_hin_guj('सोमवार'))\n",
    "\n",
    "#issue: words do not append properly\n",
    "# [ો, null, ા, null]"
   ]
  },
  {
   "cell_type": "markdown",
   "metadata": {
    "collapsed": false,
    "pycharm": {
     "name": "#%% md\n"
    }
   },
   "source": [
    "# Find hamming distance between two strings\n",
    "\n",
    "### New type of hamming distance\n",
    "in this approach we will define the difference of માત્રા as 0.5 and difference of full letter as 1 (This idea is currently in development stage)\n",
    "ex. hamming_distance(\"अवसर\", \"अकसर\"))"
   ]
  },
  {
   "cell_type": "code",
   "execution_count": 9,
   "metadata": {
    "collapsed": false,
    "pycharm": {
     "name": "#%%\n"
    }
   },
   "outputs": [
    {
     "name": "stdout",
     "output_type": "stream",
     "text": [
      "hamming_distance: 0.5  બકરો बकरा\n"
     ]
    }
   ],
   "source": [
    "def root_cons_lst(s):\n",
    "    lst = []\n",
    "    for i in s:\n",
    "        if i not in swar_guj and i not in swar_hin:\n",
    "            lst.append(i)\n",
    "    return lst\n",
    "\n",
    "\n",
    "def root_vov_lst(guj):\n",
    "    lst = []\n",
    "    for i in guj:\n",
    "        if i in swar_guj or i in swar_hin:\n",
    "            lst.append(i)\n",
    "        else:\n",
    "            lst.append(' ')\n",
    "    return lst\n",
    "\n",
    "\n",
    "def hamming_distance_vow(guj, hin_as_guj):\n",
    "    count = 0\n",
    "    guj_vov_lst = root_vov_lst(guj)\n",
    "    hin_vov_lst = root_vov_lst(hin_as_guj)\n",
    "    for i, j in zip(guj_vov_lst, hin_vov_lst):\n",
    "        if i != j:\n",
    "            count += 0.5\n",
    "    return count\n",
    "\n",
    "def hamming_distance_cons(guj, hin):\n",
    "    count = 0\n",
    "    s1_cons = root_cons_lst(guj)\n",
    "    s2_cons = root_cons_lst(hin)\n",
    "    for i, j in zip(s1_cons, s2_cons):\n",
    "        if i != j:\n",
    "            count += 1\n",
    "    return count\n",
    "\n",
    "def hamming_distance(guj, hin):\n",
    "    # transliterate the string of hindi into gujarati\n",
    "    hin_as_guj = translitarrate_hin_guj(hin)\n",
    "    consonants_count = 0\n",
    "    vowels_count = 0\n",
    "    if my_len(guj) != my_len(hin):\n",
    "        # print(\"Not same length : \" + str((guj)) + \" \" + str((hin)))\n",
    "        return -1\n",
    "    else:\n",
    "        consonants_count = hamming_distance_cons(guj, hin_as_guj)\n",
    "        # print(consonants_count)\n",
    "        vowels_count = hamming_distance_vow(guj, hin_as_guj)\n",
    "        # print(vowels_count)\n",
    "        return float(vowels_count+consonants_count)\n",
    "\n",
    "# test_list\n",
    "word1 = \"બકરો\"\n",
    "word2 = \"बकरा\"\n",
    "print(\"hamming_distance: \" + str(hamming_distance(word1, word2)) + \"  \" + str(word1) + \" \" + str(word2))"
   ]
  },
  {
   "cell_type": "markdown",
   "metadata": {
    "collapsed": false
   },
   "source": [
    "# Find the hamming distance of a word from tokanized list"
   ]
  },
  {
   "cell_type": "code",
   "execution_count": 15,
   "metadata": {
    "collapsed": false,
    "pycharm": {
     "is_executing": true,
     "name": "#%%\n"
    }
   },
   "outputs": [
    {
     "ename": "FileNotFoundError",
     "evalue": "[Errno 2] No such file or directory: 'documents\\\\myListGuj.txt'",
     "output_type": "error",
     "traceback": [
      "\u001b[1;31m---------------------------------------------------------------------------\u001b[0m",
      "\u001b[1;31mFileNotFoundError\u001b[0m                         Traceback (most recent call last)",
      "\u001b[1;32m~\\AppData\\Local\\Temp/ipykernel_21692/3817977442.py\u001b[0m in \u001b[0;36m<module>\u001b[1;34m\u001b[0m\n\u001b[0;32m      3\u001b[0m \u001b[1;31m# my_guj_token = \"myListGuj.txt\"\u001b[0m\u001b[1;33m\u001b[0m\u001b[1;33m\u001b[0m\u001b[1;33m\u001b[0m\u001b[0m\n\u001b[0;32m      4\u001b[0m \u001b[1;31m# my_hin_token = \"myListHindi.txt\"\u001b[0m\u001b[1;33m\u001b[0m\u001b[1;33m\u001b[0m\u001b[1;33m\u001b[0m\u001b[0m\n\u001b[1;32m----> 5\u001b[1;33m \u001b[0mguj_file\u001b[0m \u001b[1;33m=\u001b[0m \u001b[0mopen\u001b[0m\u001b[1;33m(\u001b[0m\u001b[1;34m'documents\\myListGuj.txt'\u001b[0m\u001b[1;33m,\u001b[0m \u001b[1;34m\"r\"\u001b[0m\u001b[1;33m,\u001b[0m \u001b[0mencoding\u001b[0m\u001b[1;33m=\u001b[0m\u001b[1;34m\"utf-8\"\u001b[0m\u001b[1;33m)\u001b[0m\u001b[1;33m\u001b[0m\u001b[1;33m\u001b[0m\u001b[0m\n\u001b[0m\u001b[0;32m      6\u001b[0m \u001b[0mhin_file\u001b[0m \u001b[1;33m=\u001b[0m \u001b[0mopen\u001b[0m\u001b[1;33m(\u001b[0m\u001b[0mhin_token\u001b[0m\u001b[1;33m,\u001b[0m \u001b[1;34m\"r\"\u001b[0m\u001b[1;33m,\u001b[0m \u001b[0mencoding\u001b[0m\u001b[1;33m=\u001b[0m\u001b[1;34m\"utf-8\"\u001b[0m\u001b[1;33m)\u001b[0m\u001b[1;33m\u001b[0m\u001b[1;33m\u001b[0m\u001b[0m\n\u001b[0;32m      7\u001b[0m \u001b[1;31m# rstrip() to remove '\\n'\u001b[0m\u001b[1;33m\u001b[0m\u001b[1;33m\u001b[0m\u001b[1;33m\u001b[0m\u001b[0m\n",
      "\u001b[1;31mFileNotFoundError\u001b[0m: [Errno 2] No such file or directory: 'documents\\\\myListGuj.txt'"
     ]
    }
   ],
   "source": [
    "guj_token = 'myListGuj.txt'\n",
    "hin_token = 'myListHindi.txt'\n",
    "# my_guj_token = \"myListGuj.txt\"\n",
    "# my_hin_token = \"myListHindi.txt\"\n",
    "guj_file = open(guj_token, \"r\", encoding=\"utf-8\")\n",
    "hin_file = open(hin_token, \"r\", encoding=\"utf-8\")\n",
    "# rstrip() to remove '\\n'\n",
    "guj_content = [line.rstrip() for line in guj_file.readlines()]  # reading content from selected file\n",
    "# print(guj_content)\n",
    "hin_content = [line.rstrip() for line in hin_file.readlines()]\n",
    "# print(hin_content)\n",
    "for guj_words in guj_content:\n",
    "    for hin_words in hin_content:\n",
    "        if (my_len(guj_words) >= 3):\n",
    "            dist = hamming_distance(guj_words, hin_words)\n",
    "            if (0 < dist <= 1.5):\n",
    "                print(\"hamming_distance: \" + str(dist) + \"  \" + str(guj_words) + \" \" + str(hin_words))\n",
    "# word1 = list(\"ત્ર\")\n",
    "# print(word1)\n",
    "\n",
    "hamming_distance_cons(\"બિલાડી\", \"बिल्ली\")"
   ]
  }
 ],
 "metadata": {
  "kernelspec": {
   "display_name": "Python 3",
   "language": "python",
   "name": "python3"
  },
  "language_info": {
   "codemirror_mode": {
    "name": "ipython",
    "version": 2
   },
   "file_extension": ".py",
   "mimetype": "text/x-python",
   "name": "python",
   "nbconvert_exporter": "python",
   "pygments_lexer": "ipython2",
   "version": "3.9.2"
  }
 },
 "nbformat": 4,
 "nbformat_minor": 0
}
