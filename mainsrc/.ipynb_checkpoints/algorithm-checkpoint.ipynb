{
 "cells": [
  {
   "cell_type": "markdown",
   "metadata": {},
   "source": [
    "# Aim\n",
    "Find and Sort the hamming_distance of the given word in the file"
   ]
  },
  {
   "cell_type": "code",
   "execution_count": 1,
   "metadata": {
    "pycharm": {
     "name": "#%%\n"
    }
   },
   "outputs": [],
   "source": [
    "matra_guj = ['ા', 'િ', 'ી', 'ુ', 'ૂ', 'ે', 'ૈ', 'ો', 'ૌ', 'ૅ', 'ૉ', 'ં', 'ૃ', '્', 'ઃ', 'ઁ', '઼', 'ઽ', 'ૄ']\n",
    "matra_hin = ['ा', 'ि', 'ी', 'ु', 'ू', 'े', 'ै', 'ो', 'ौ', 'ॅ', 'ॉ', 'ं', 'ृ', '्', 'ः', 'ँ', '़', 'ऽ', 'ॄ']\n",
    "\n",
    "gu_vow = ['અ', 'આ', 'ઇ', 'ઈ', 'ઉ', 'ઊ', 'ઋ', 'ૠ', 'ઍ', 'એ', 'ઐ', 'ઑ', 'ઓ', 'ઔ', 'ૐ']\n",
    "hi_vow = ['अ', 'आ', 'इ', 'ई', 'उ', 'ऊ', 'ऋ', 'ॠ', 'ऍ', 'ए', 'ऐ', 'ऑ', 'ओ', 'औ', 'ॐ']\n",
    "\n",
    "gu_cons = ['ક', 'ખ', 'ગ', 'ઘ', 'ઙ', 'ચ', 'છ', 'જ', 'ઝ', 'ઞ', 'ટ', 'ઠ', 'ડ', 'ઢ', 'ણ', 'ત', 'થ', 'દ', 'ધ', 'ન', 'પ', 'ફ',\n",
    "           'બ', 'ભ', 'મ', 'ય', 'ર', 'લ', 'ળ', 'વ', 'શ', 'ષ', 'સ', 'હ']\n",
    "hi_cons = ['क', 'ख', 'ग', 'घ', 'ङ', 'च', 'छ', 'ज', 'झ', 'ञ', 'ट', 'ठ', 'ड', 'ढ', 'ण', 'त', 'थ', 'द', 'ध', 'न', 'प', 'फ',\n",
    "           'ब', 'भ', 'म', 'य', 'र', 'ल', 'ळ', 'व', 'श', 'ष', 'स', 'ह']"
   ]
  },
  {
   "cell_type": "markdown",
   "metadata": {},
   "source": [
    "## Create own length finding function\n",
    "When we use the library function len(word) we get the total length (અક્ષર + માત્રા), but we want the number of characters (અક્ષર) only.\n",
    "Note: Gujarati word is stored like this example given below\n",
    "\n",
    "કાગડો: ['ક', 'ા', 'ગ', 'ડ', 'ો']\n",
    "len('કાગડો') = 5 (અક્ષર + માત્રા)\n",
    "my_len('કાગડો') = 3 (અક્ષર) [it will only consider the consonents]"
   ]
  },
  {
   "cell_type": "code",
   "execution_count": 86,
   "metadata": {
    "pycharm": {
     "name": "#%%\n"
    }
   },
   "outputs": [
    {
     "name": "stdout",
     "output_type": "stream",
     "text": [
      "my_len: 3  len: 5\n",
      "my_len: 4  len: 6\n"
     ]
    }
   ],
   "source": [
    "# આ ફંકશન માત્રાઓને ingnore કરશે.\n",
    "# ઉ.દા. len(શાબાસ) == 3 not 5\n",
    "def my_len(s):\n",
    "    count = 0\n",
    "    for i in s:\n",
    "        if i not in matra_guj and i not in matra_hin:\n",
    "            count += 1\n",
    "    return count\n",
    "\n",
    "\n",
    "# test\n",
    "print(\"my_len: \" + str(my_len('શાબાસ')) + \"  len: \" + str(len('શાબાસ')))\n",
    "print(\"my_len: \" + str(my_len('सोमवार')) + \"  len: \" + str(len('सोमवार')))"
   ]
  },
  {
   "cell_type": "markdown",
   "metadata": {},
   "source": [
    "### Translitaration of Hindi to Gujarati\n",
    "we will translitarate the fonts of hindi to gujarati first and the compute the hamming distance of the two strings"
   ]
  },
  {
   "cell_type": "code",
   "execution_count": 87,
   "metadata": {
    "pycharm": {
     "name": "#%%\n"
    }
   },
   "outputs": [
    {
     "name": "stdout",
     "output_type": "stream",
     "text": [
      "સોમવારમાં\n",
      "5\n"
     ]
    }
   ],
   "source": [
    "# this function will transliterate the hindi character to gujarati character\n",
    "# why we need to Transliterate? : beacuse the hindi character is not comparable to the gujarati character ('હ' and 'ह' are not the same due to its different unicode values)\n",
    "def translitarrate_hin_guj(s):\n",
    "    output = []  # this will store the output\n",
    "    for i in s:\n",
    "        if i in matra_hin:\n",
    "            output.append(matra_guj[matra_hin.index(i)])\n",
    "        elif i in hi_cons:\n",
    "            output.append(gu_cons[hi_cons.index(i)])\n",
    "        else:\n",
    "            output.append(i)\n",
    "    return ''.join(output)\n",
    "\n",
    "\n",
    "# testing\n",
    "print(translitarrate_hin_guj('सोमवारमां'))\n",
    "print(my_len('सोमवारमां'))\n",
    "\n",
    "#issue: words do not append properly\n",
    "# [ો, null, ા, null]"
   ]
  },
  {
   "cell_type": "markdown",
   "metadata": {},
   "source": [
    "## Root consonant and vowel list\n",
    "<b>Using this function we are deriving the consonants of the word\n",
    "\n",
    "Ex. root_cons_lst('કોયલ') will return ['ક', 'ય', 'લ']\n",
    "\n",
    "<b> This function will return the list of the matras that apper in the word\n",
    "\n",
    "print(root_vov_lst('શ્રોતા')) #will return ['્', 'ો', 'ા']\n",
    "print(root_vov_lst('કોયલ')) #will return ['ો', ' ', ' ']"
   ]
  },
  {
   "cell_type": "code",
   "execution_count": 88,
   "metadata": {
    "pycharm": {
     "name": "#%%\n"
    }
   },
   "outputs": [
    {
     "name": "stdout",
     "output_type": "stream",
     "text": [
      "શ્રોતા ->>  ['્', 'ો', 'ા']\n",
      "કોયલ ->>  ['ો', ' ', ' ']\n"
     ]
    }
   ],
   "source": [
    "# Using this function we are deriving the consonants of the word\n",
    "# Ex. root_cons_lst('કોયલ') will return ['ક', 'ય', 'લ']\n",
    "def root_cons_lst(s):\n",
    "    lst = []\n",
    "    for i in s:\n",
    "        if i not in matra_guj and i not in matra_hin:\n",
    "            lst.append(i)\n",
    "    return lst\n",
    "\n",
    "# print(root_vov_lst(‘શ્રોતા’)) #will return [‘્’, ‘ો’, ‘ા’]\n",
    "# print(root_vov_lst(‘કોયલ’)) #will return [‘ો’, ’ ’, ’ ’]\n",
    "def root_matra_lst(guj):\n",
    "    lst = []\n",
    "    for i in guj:\n",
    "        if i in matra_guj or i in matra_hin:\n",
    "            lst.append(i)\n",
    "            # Find a better way to do it\n",
    "            # The idea is if we have the matra then remove the previous white space occurred due to character\n",
    "            lst.remove(lst[lst.index(i) - 1])\n",
    "        else:\n",
    "            lst.append(' ')\n",
    "    return lst\n",
    "print('શ્રોતા ->> ',root_matra_lst('શ્રોતા'))\n",
    "print('કોયલ ->> ',root_matra_lst('કોયલ'))"
   ]
  },
  {
   "cell_type": "markdown",
   "metadata": {
    "pycharm": {
     "name": "#%% md\n"
    }
   },
   "source": [
    "# Find hamming distance between two strings\n",
    "\n",
    "### New type of hamming distance\n",
    "in this approach we will define the difference of માત્રા as 0.5 and difference of full letter as 1 (This idea is currently in development stage)\n",
    "ex. hamming_distance(\"अवसर\", \"अकसर\"))"
   ]
  },
  {
   "cell_type": "code",
   "execution_count": 89,
   "metadata": {
    "pycharm": {
     "name": "#%%\n"
    }
   },
   "outputs": [
    {
     "name": "stdout",
     "output_type": "stream",
     "text": [
      "hamming_distance: [1.0, [True, 0], [False, 1]]  વાઘ बाघ\n"
     ]
    }
   ],
   "source": [
    "# will count the hamming distance of the skeleton of the matras\n",
    "def hamming_distance_vow(guj, hin_as_guj):\n",
    "    hamming = [False, 0]\n",
    "    guj_vov_lst = root_matra_lst(guj)\n",
    "    hin_vov_lst = root_matra_lst(hin_as_guj)\n",
    "    # checking first matra of the skeleton in the 0th index of the list\n",
    "    if(guj_vov_lst[0] == hin_vov_lst[0]):\n",
    "        hamming[0] = True\n",
    "    for i, j in zip(guj_vov_lst, hin_vov_lst):\n",
    "        #TODO: ignore last matra in count of hamming dist\n",
    "        # if the last character of the matra is different then ignore it\n",
    "        # why? --> સસલું, સસલા, સસલો, સસલી વગેરેનો અર્થ સમાન જ છે, ફક્ત એકવચન - બહુવચન અને સ્ત્રીલિંગ - પુંલિંગમાં ફરક છે.\n",
    "        if i == len(guj_vov_lst) or j == len(hin_vov_lst):\n",
    "            break\n",
    "        if i != j:\n",
    "            hamming[1] += 0.5\n",
    "    return hamming\n",
    "\n",
    "\n",
    "# will count hamming distance of the character\n",
    "def hamming_distance_cons(guj, hin):\n",
    "    count = [False, 0]\n",
    "    s1_cons = root_cons_lst(guj)\n",
    "    s2_cons = root_cons_lst(hin)\n",
    "    if s1_cons[0] == s2_cons[0]:\n",
    "        count[0] = True\n",
    "    for i, j in zip(s1_cons, s2_cons):\n",
    "        if i != j:\n",
    "            count[1] += 1\n",
    "    return count\n",
    "\n",
    "\n",
    "# will count the ultimate hamming distance of the matras and the characters\n",
    "def hamming_distance(guj, hin):\n",
    "    # transliterate the string of hindi into gujarati\n",
    "    hin_as_guj = translitarrate_hin_guj(hin)\n",
    "    # TODO: find the counter example of this logic: if the character length of the word is not same then no need to find the hamming dist\n",
    "    if my_len(guj) != my_len(hin):\n",
    "        # print(\"Not same length : \" + str((guj)) + \" \" + str((hin)))\n",
    "        return [-1]\n",
    "    else:\n",
    "        consonants_count = hamming_distance_cons(guj, hin_as_guj)\n",
    "        # print(consonants_count)\n",
    "        vowels_count = hamming_distance_vow(guj, hin_as_guj)\n",
    "        # print(vowels_count)\n",
    "        return  [float(vowels_count[1] + consonants_count[1]), vowels_count, consonants_count]\n",
    "\n",
    "\n",
    "# test_list\n",
    "word1 = \"વાઘ\"\n",
    "word2 = \"बाघ\"\n",
    "print(\"hamming_distance: \" + str(hamming_distance(word1, word2)) + \"  \" + str(word1) + \" \" + str(word2))"
   ]
  },
  {
   "cell_type": "markdown",
   "metadata": {},
   "source": [
    "# Find the hamming distance of a word from tokenized list"
   ]
  },
  {
   "cell_type": "code",
   "execution_count": 91,
   "metadata": {
    "pycharm": {
     "name": "#%%\n"
    }
   },
   "outputs": [
    {
     "name": "stdout",
     "output_type": "stream",
     "text": [
      "D:\\college document\\0. SEM 4\\6. SGP II\\Cross-Lingual-Dictionary-Generation-Tool\n",
      "hamming_distance: [1.5, [False, 0.5], [True, 1]]  વાઘ वांक\n",
      "hamming_distance: [1.5, [False, 0.5], [True, 1]]  વાઘ वांग\n",
      "hamming_distance: [1.5, [False, 0.5], [True, 1]]  વાઘ वांत\n",
      "hamming_distance: [1.5, [False, 0.5], [True, 1]]  વાઘ वांध\n",
      "hamming_distance: [1.5, [False, 0.5], [True, 1]]  વાઘ वॉंग\n",
      "hamming_distance: [1.5, [False, 0.5], [True, 1]]  વાઘ वुड\n",
      "hamming_distance: [1.5, [False, 0.5], [True, 1]]  વાઘ वुस\n",
      "hamming_distance: [1.5, [False, 0.5], [False, 1]]  વાઘ बघ\n",
      "hamming_distance: [1.5, [True, 0.5], [True, 1]]  વાઘ वातू\n",
      "hamming_distance: [1.5, [False, 0.5], [True, 1]]  વાઘ विग\n",
      "hamming_distance: [1.5, [False, 0.5], [True, 1]]  વાઘ विट\n",
      "hamming_distance: [1.5, [False, 0.5], [True, 1]]  વાઘ विद\n",
      "hamming_distance: [1.5, [False, 0.5], [True, 1]]  વાઘ विध\n",
      "hamming_distance: [1.5, [False, 0.5], [True, 1]]  વાઘ विष\n",
      "hamming_distance: [1.5, [False, 0.5], [False, 1]]  વાઘ लाँघ\n",
      "hamming_distance: [1.5, [False, 0.5], [True, 1]]  વાઘ वून\n",
      "hamming_distance: [1.5, [False, 0.5], [True, 1]]  વાઘ वूल\n",
      "hamming_distance: [1.5, [False, 0.5], [False, 1]]  વાઘ मोघ\n",
      "hamming_distance: [1.5, [False, 0.5], [False, 1]]  વાઘ निघ\n",
      "hamming_distance: [1.0, [True, 0], [False, 1]]  વાઘ घाघ\n",
      "hamming_distance: [1.5, [True, 0.5], [False, 1]]  વાઘ घाघी\n",
      "hamming_distance: [1.5, [False, 0.5], [False, 1]]  વાઘ पेघ\n",
      "hamming_distance: [1.5, [True, 0.5], [True, 1]]  વાઘ वारि\n",
      "hamming_distance: [1.5, [True, 0.5], [True, 1]]  વાઘ वारिों\n",
      "hamming_distance: [1.5, [False, 0.5], [False, 1]]  વાઘ दोघ\n",
      "hamming_distance: [1.5, [False, 0.5], [False, 1]]  વાઘ सूँघ\n",
      "hamming_distance: [1.5, [False, 0.5], [True, 1]]  વાઘ वृक\n",
      "hamming_distance: [1.5, [False, 0.5], [True, 1]]  વાઘ वृज\n",
      "hamming_distance: [1.5, [False, 0.5], [True, 1]]  વાઘ वृत\n",
      "hamming_distance: [1.5, [False, 0.5], [True, 1]]  વાઘ वृश\n",
      "hamming_distance: [1.5, [False, 0.5], [True, 1]]  વાઘ वृष\n",
      "hamming_distance: [1.0, [True, 0], [False, 1]]  વાઘ बाघ\n",
      "hamming_distance: [1.5, [False, 0.5], [False, 1]]  વાઘ अघ\n",
      "hamming_distance: [1.5, [True, 0.5], [False, 1]]  વાઘ बाघी\n",
      "hamming_distance: [1.5, [True, 0.5], [False, 1]]  વાઘ बाघों\n",
      "hamming_distance: [1.5, [False, 0.5], [True, 1]]  વાઘ विध\n",
      "hamming_distance: [1.5, [False, 0.5], [True, 1]]  વાઘ विय\n",
      "hamming_distance: [1.5, [False, 0.5], [True, 1]]  વાઘ विल\n",
      "hamming_distance: [1.5, [False, 0.5], [True, 1]]  વાઘ विश\n",
      "hamming_distance: [1.5, [False, 0.5], [True, 1]]  વાઘ विष\n",
      "hamming_distance: [1.5, [False, 0.5], [False, 1]]  વાઘ मघ\n",
      "hamming_distance: [1.5, [False, 0.5], [False, 1]]  વાઘ सिंघ\n",
      "hamming_distance: [1.5, [False, 0.5], [False, 1]]  વાઘ घेँघ\n",
      "hamming_distance: [1.5, [False, 0.5], [False, 1]]  વાઘ सूंघ\n",
      "hamming_distance: [1.5, [False, 0.5], [False, 1]]  વાઘ ऊँघ\n",
      "hamming_distance: [1.5, [False, 0.5], [False, 1]]  વાઘ तंघ\n",
      "hamming_distance: [1.5, [False, 0.5], [True, 1]]  વાઘ वोंग\n",
      "hamming_distance: [1.5, [False, 0.5], [True, 1]]  વાઘ वोंट\n",
      "hamming_distance: [1.5, [True, 0.5], [True, 1]]  વાઘ वालाा\n",
      "hamming_distance: [1.5, [True, 0.5], [True, 1]]  વાઘ वाले\n",
      "hamming_distance: [1.5, [True, 0.5], [True, 1]]  વાઘ वालों\n",
      "hamming_distance: [1.5, [True, 0.5], [True, 1]]  વાઘ वाली\n",
      "hamming_distance: [1.5, [True, 0.5], [True, 1]]  વાઘ वाले\n",
      "hamming_distance: [1.5, [True, 0.5], [True, 1]]  વાઘ वालो\n",
      "hamming_distance: [1.5, [True, 0.5], [True, 1]]  વાઘ वालि\n",
      "hamming_distance: [1.5, [True, 0.5], [True, 1]]  વાઘ वाधू\n",
      "hamming_distance: [1.5, [True, 0.5], [True, 1]]  વાઘ वाजि\n",
      "hamming_distance: [1.5, [True, 0.5], [True, 1]]  વાઘ वाजिों\n",
      "hamming_distance: [1.5, [False, 0.5], [False, 1]]  વાઘ घेंघ\n",
      "hamming_distance: [1.5, [False, 0.5], [True, 1]]  વાઘ वृंत\n",
      "hamming_distance: [1.5, [False, 0.5], [True, 1]]  વાઘ वृंद\n",
      "hamming_distance: [1.5, [False, 0.5], [True, 1]]  વાઘ वक\n",
      "hamming_distance: [1.5, [False, 0.5], [True, 1]]  વાઘ वच\n",
      "hamming_distance: [1.5, [False, 0.5], [True, 1]]  વાઘ वट\n",
      "hamming_distance: [1.5, [False, 0.5], [True, 1]]  વાઘ वड\n",
      "hamming_distance: [1.5, [False, 0.5], [True, 1]]  વાઘ वत\n",
      "hamming_distance: [1.5, [False, 0.5], [True, 1]]  વાઘ वद\n",
      "hamming_distance: [1.5, [False, 0.5], [True, 1]]  વાઘ वध\n",
      "hamming_distance: [1.5, [False, 0.5], [True, 1]]  વાઘ वन\n",
      "hamming_distance: [1.5, [False, 0.5], [True, 1]]  વાઘ वप\n",
      "hamming_distance: [1.5, [False, 0.5], [True, 1]]  વાઘ वम\n",
      "hamming_distance: [1.5, [False, 0.5], [True, 1]]  વાઘ वय\n",
      "hamming_distance: [1.5, [False, 0.5], [True, 1]]  વાઘ वर\n",
      "hamming_distance: [1.5, [False, 0.5], [True, 1]]  વાઘ वल\n",
      "hamming_distance: [1.5, [False, 0.5], [True, 1]]  વાઘ वव\n",
      "hamming_distance: [1.5, [False, 0.5], [True, 1]]  વાઘ वश\n",
      "hamming_distance: [1.5, [False, 0.5], [True, 1]]  વાઘ वह\n",
      "hamming_distance: [1.5, [False, 0.5], [True, 1]]  વાઘ वििए\n",
      "hamming_distance: [1.5, [False, 0.5], [True, 1]]  વાઘ वैंप\n",
      "hamming_distance: [1.5, [True, 0.5], [True, 1]]  વાઘ वापि\n",
      "hamming_distance: [1.5, [True, 0.5], [True, 1]]  વાઘ वासि\n",
      "hamming_distance: [1.5, [False, 0.5], [True, 1]]  વાઘ वॅन\n",
      "hamming_distance: [1.0, [True, 0], [False, 1]]  વાઘ बाघ\n",
      "hamming_distance: [1.5, [True, 0.5], [False, 1]]  વાઘ बाघों\n",
      "hamming_distance: [1.5, [True, 0.5], [False, 1]]  વાઘ बाघी\n",
      "hamming_distance: [1.5, [True, 0.5], [False, 1]]  વાઘ बाघे\n",
      "hamming_distance: [1.5, [True, 0.5], [True, 1]]  વાઘ वाग्\n",
      "hamming_distance: [1.5, [False, 0.5], [True, 1]]  વાઘ वोई\n",
      "hamming_distance: [1.5, [False, 0.5], [True, 1]]  વાઘ वोक\n",
      "hamming_distance: [1.5, [False, 0.5], [True, 1]]  વાઘ वोग\n",
      "hamming_distance: [1.5, [False, 0.5], [True, 1]]  વાઘ वोज\n",
      "hamming_distance: [1.5, [False, 0.5], [True, 1]]  વાઘ वोट\n",
      "hamming_distance: [1.5, [False, 0.5], [True, 1]]  વાઘ वोड\n",
      "hamming_distance: [1.5, [False, 0.5], [True, 1]]  વાઘ वोढ\n",
      "hamming_distance: [1.5, [False, 0.5], [True, 1]]  વાઘ वोत\n",
      "hamming_distance: [1.5, [False, 0.5], [True, 1]]  વાઘ वोद\n",
      "hamming_distance: [1.5, [False, 0.5], [True, 1]]  વાઘ वोन\n",
      "hamming_distance: [1.5, [False, 0.5], [True, 1]]  વાઘ वोम\n",
      "hamming_distance: [1.5, [False, 0.5], [True, 1]]  વાઘ वोह\n",
      "hamming_distance: [1.5, [False, 0.5], [False, 1]]  વાઘ लांघ\n",
      "hamming_distance: [1.5, [True, 0.5], [True, 1]]  વાઘ वाहि\n",
      "hamming_distance: [1.5, [True, 0.5], [True, 1]]  વાઘ वाणि\n",
      "hamming_distance: [1.5, [False, 0.5], [False, 1]]  વાઘ ऊघ\n",
      "hamming_distance: [1.5, [False, 0.5], [False, 1]]  વાઘ घूघ\n",
      "hamming_distance: [1.5, [False, 0.5], [False, 1]]  વાઘ जाँघ\n",
      "hamming_distance: [1.0, [True, 0], [True, 1]]  વાઘ वाज़\n",
      "hamming_distance: [1.5, [True, 0.5], [True, 1]]  વાઘ वाज़े\n",
      "hamming_distance: [1.5, [False, 0.5], [False, 1]]  વાઘ मेघ\n",
      "hamming_distance: [1.5, [True, 0.5], [True, 1]]  વાઘ वाफ़ी\n",
      "hamming_distance: [1.5, [False, 0.5], [False, 1]]  વાઘ संघ\n",
      "hamming_distance: [1.5, [False, 0.5], [False, 1]]  વાઘ ओघ\n",
      "hamming_distance: [1.5, [True, 0.5], [False, 1]]  વાઘ बाघों\n",
      "hamming_distance: [1.5, [False, 0.5], [False, 1]]  વાઘ घोघ\n",
      "hamming_distance: [1.5, [True, 0.5], [True, 1]]  વાઘ वाडू\n",
      "hamming_distance: [1.5, [True, 0.5], [True, 1]]  વાઘ वायु\n",
      "hamming_distance: [1.5, [True, 0.5], [True, 1]]  વાઘ वायुों\n",
      "hamming_distance: [1.5, [True, 0.5], [True, 1]]  વાઘ वाति\n",
      "hamming_distance: [1.5, [False, 0.5], [False, 1]]  વાઘ जंघ\n",
      "hamming_distance: [1.5, [False, 0.5], [False, 1]]  વાઘ सांघ\n",
      "hamming_distance: [1.5, [False, 0.5], [False, 1]]  વાઘ जांघ\n",
      "hamming_distance: [1.5, [False, 0.5], [True, 1]]  વાઘ व्य\n",
      "hamming_distance: [1.5, [False, 0.5], [False, 1]]  વાઘ घोँघ\n",
      "hamming_distance: [1.5, [False, 0.5], [False, 1]]  વાઘ ऊंघ\n"
     ]
    }
   ],
   "source": [
    "# guj_token = \"FinalOutputFileGujarati.txt\"\n",
    "# hin_token = \"FinalOutputFileHindi.txt\"\n",
    "import os\n",
    "script_path = os.path.abspath('') # i.e. /path/to/dir/foobar.py\n",
    "script_dir = os.path.split(script_path)[0] #i.e. /path/to/dir/\n",
    "script_dir2 = os.path.split(script_dir)[0]\n",
    "print(script_dir)\n",
    "\n",
    "my_guj_token = script_dir+\"\\data\\myListGuj.txt\"\n",
    "my_hin_token = script_dir+\"\\data\\myListHindi.txt\"\n",
    "guj_file = open(my_guj_token, \"r\", encoding=\"utf-8\")\n",
    "hin_file = open(my_hin_token, \"r\", encoding=\"utf-8\")\n",
    "\n",
    "# rstrip() to remove '\\n'\n",
    "guj_content = [line.rstrip() for line in guj_file.readlines()]  # reading content from selected file\n",
    "# print(guj_content)\n",
    "\n",
    "hin_content = [line.rstrip() for line in hin_file.readlines()]\n",
    "# print(hin_content)\n",
    "\n",
    "# for guj_words in guj_content:\n",
    "guj_words = 'વાઘ'\n",
    "#{hamming_dist: {first_letter, first_matra, char_dist, vov_dist}}\n",
    "my_dict = {}\n",
    "for hin_words in hin_content:\n",
    "    tempContainer = list()\n",
    "    hin = translitarrate_hin_guj(hin_words)\n",
    "    dist = hamming_distance(guj_words, hin_words)\n",
    "\n",
    "    # [actual_dist ,first_matra, matra_dist], [first_char, char_dist]\n",
    "    # [0.5, [True, 0.5], [True, 0]]\n",
    "    if (0 < dist[0] <= 1.5  ):\n",
    "        print(\"hamming_distance: \" + str(dist) + \"  \" + str(guj_words) + \" \" + str(hin_words))\n",
    "\n",
    "\n",
    "# hamming_distance(\"કૂતરો\", \"कुत्ता\")"
   ]
  },
  {
   "cell_type": "markdown",
   "metadata": {},
   "source": [
    "# Making Priority List based on nearest hamming distance"
   ]
  },
  {
   "cell_type": "code",
   "execution_count": null,
   "metadata": {
    "pycharm": {
     "name": "#%%\n"
    }
   },
   "outputs": [],
   "source": []
  }
 ],
 "metadata": {
  "kernelspec": {
   "display_name": "Python 3 (ipykernel)",
   "language": "python",
   "name": "python3"
  },
  "language_info": {
   "codemirror_mode": {
    "name": "ipython",
    "version": 3
   },
   "file_extension": ".py",
   "mimetype": "text/x-python",
   "name": "python",
   "nbconvert_exporter": "python",
   "pygments_lexer": "ipython3",
   "version": "3.7.11"
  }
 },
 "nbformat": 4,
 "nbformat_minor": 1
}
